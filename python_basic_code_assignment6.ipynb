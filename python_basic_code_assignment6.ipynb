{
 "cells": [
  {
   "cell_type": "code",
   "execution_count": 10,
   "id": "6ee99832",
   "metadata": {},
   "outputs": [],
   "source": [
    "#Q1.Write a Python Program to Display Fibonacci Sequence Using Recursion.\n",
    "def fibo(n):\n",
    "    if n == 1:\n",
    "        return 0\n",
    "    if n == 2:\n",
    "        return 1\n",
    "    return (fibo(n-1) + fibo(n-2))"
   ]
  },
  {
   "cell_type": "code",
   "execution_count": 13,
   "id": "f8b90633",
   "metadata": {},
   "outputs": [
    {
     "name": "stdout",
     "output_type": "stream",
     "text": [
      "enter the no:4\n",
      "0\n",
      "1\n",
      "1\n",
      "2\n"
     ]
    }
   ],
   "source": [
    "n = int(input(\"enter the no:\"))\n",
    "for i in range(1,n+1):\n",
    "    print(fibo(i))"
   ]
  },
  {
   "cell_type": "code",
   "execution_count": 14,
   "id": "a2561e56",
   "metadata": {},
   "outputs": [],
   "source": [
    "#Q2.Write a Python Program to Find Factorial of Number Using Recursion.\n",
    "def fac(n):\n",
    "    if n == 1:\n",
    "        return 1\n",
    "    else:\n",
    "        return (n * fac(n-1))"
   ]
  },
  {
   "cell_type": "code",
   "execution_count": 15,
   "id": "0aecf337",
   "metadata": {},
   "outputs": [
    {
     "name": "stdout",
     "output_type": "stream",
     "text": [
      "enter the no:5\n",
      "120\n"
     ]
    }
   ],
   "source": [
    "n = int(input(\"enter the no:\"))\n",
    "z = fac(n)\n",
    "print(z)"
   ]
  },
  {
   "cell_type": "code",
   "execution_count": 16,
   "id": "6cf91459",
   "metadata": {},
   "outputs": [
    {
     "name": "stdout",
     "output_type": "stream",
     "text": [
      "enter the height in meter:1.62\n",
      "enter the weight in kg:59\n",
      "22.481329065691202\n"
     ]
    }
   ],
   "source": [
    "#Q3.Write a Python Program to calculate your Body Mass Index.\n",
    "height = float(input(\"enter the height in meter:\"))\n",
    "weight = float(input(\"enter the weight in kg:\"))\n",
    "bmi = weight/(height**2)\n",
    "print(bmi)"
   ]
  },
  {
   "cell_type": "code",
   "execution_count": 19,
   "id": "09b38137",
   "metadata": {},
   "outputs": [
    {
     "name": "stdout",
     "output_type": "stream",
     "text": [
      "enter the no:14\n",
      "Natural logarithm of 14 is 2.6390573296152584\n"
     ]
    }
   ],
   "source": [
    "#Q4.Write a Python Program to calculate the natural logarithm of any number.\n",
    "import math\n",
    "x = int(input(\"enter the no:\"))\n",
    "print(\"Natural logarithm of\",x,\"is\",math.log(x))"
   ]
  },
  {
   "cell_type": "code",
   "execution_count": 20,
   "id": "541749d2",
   "metadata": {},
   "outputs": [
    {
     "name": "stdout",
     "output_type": "stream",
     "text": [
      "enter the nth term:3\n",
      "36\n"
     ]
    }
   ],
   "source": [
    "#Q5.Write a Python Program for cube sum of first n natural numbers.\n",
    "x = int(input(\"enter the nth term:\"))\n",
    "sum = 0\n",
    "for i in range(1,x+1):\n",
    "    sum = sum + i**3\n",
    "print(sum)"
   ]
  },
  {
   "cell_type": "code",
   "execution_count": null,
   "id": "6f261493",
   "metadata": {},
   "outputs": [],
   "source": []
  }
 ],
 "metadata": {
  "kernelspec": {
   "display_name": "Python 3",
   "language": "python",
   "name": "python3"
  },
  "language_info": {
   "codemirror_mode": {
    "name": "ipython",
    "version": 3
   },
   "file_extension": ".py",
   "mimetype": "text/x-python",
   "name": "python",
   "nbconvert_exporter": "python",
   "pygments_lexer": "ipython3",
   "version": "3.8.8"
  }
 },
 "nbformat": 4,
 "nbformat_minor": 5
}
